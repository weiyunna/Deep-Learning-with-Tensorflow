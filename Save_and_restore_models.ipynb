{
  "nbformat": 4,
  "nbformat_minor": 0,
  "metadata": {
    "colab": {
      "name": "Save and restore models",
      "version": "0.3.2",
      "provenance": [],
      "collapsed_sections": [],
      "include_colab_link": true
    },
    "kernelspec": {
      "name": "python3",
      "display_name": "Python 3"
    }
  },
  "cells": [
    {
      "cell_type": "markdown",
      "metadata": {
        "id": "view-in-github",
        "colab_type": "text"
      },
      "source": [
        "<a href=\"https://colab.research.google.com/github/weiyunna/Deep-Learning-with-Tensorflow/blob/master/Save_and_restore_models.ipynb\" target=\"_parent\"><img src=\"https://colab.research.google.com/assets/colab-badge.svg\" alt=\"Open In Colab\"/></a>"
      ]
    },
    {
      "metadata": {
        "id": "4eNolbNO-Kvu",
        "colab_type": "text"
      },
      "cell_type": "markdown",
      "source": [
        "# Save and restore models"
      ]
    },
    {
      "metadata": {
        "id": "Y2B0z89c-jaG",
        "colab_type": "text"
      },
      "cell_type": "markdown",
      "source": [
        "Model progress can be saved during—and after—training.\n",
        "\n",
        "This means a model can resume where it left off and avoid long training times. Saving also means you can share your model and others can recreate your work. When publishing research models and techniques, most machine learning practitioners share:\n",
        "\n",
        "* code to create the model, and\n",
        "* the trained weights, or parameters, for the model\n",
        "\n",
        "Sharing this data helps others understand how the model works and try it themselves with new data."
      ]
    },
    {
      "metadata": {
        "id": "IxD6GsO9-24u",
        "colab_type": "text"
      },
      "cell_type": "markdown",
      "source": [
        "## Options"
      ]
    },
    {
      "metadata": {
        "id": "TAWfjJYC-5M2",
        "colab_type": "text"
      },
      "cell_type": "markdown",
      "source": [
        "There are different ways to save TensorFlow models—depending on the API you're using. \n",
        "\n",
        "* This guide uses tf.keras, a high-level API to build and train models in TensorFlow. \n",
        "* For other approaches, see the TensorFlow Save and Restore guide or Saving in eager."
      ]
    },
    {
      "metadata": {
        "id": "f_IM11zp_Jo2",
        "colab_type": "text"
      },
      "cell_type": "markdown",
      "source": [
        "## Setup"
      ]
    },
    {
      "metadata": {
        "id": "4sSNGyBe_Lju",
        "colab_type": "text"
      },
      "cell_type": "markdown",
      "source": [
        "### Installs and Imports"
      ]
    },
    {
      "metadata": {
        "id": "8MZsoqeS_TLG",
        "colab_type": "text"
      },
      "cell_type": "markdown",
      "source": [
        "Install and import TensorFlow and dependencies:"
      ]
    },
    {
      "metadata": {
        "id": "Jph6uBWQ-MKa",
        "colab_type": "code",
        "colab": {}
      },
      "cell_type": "code",
      "source": [
        "!pip install -q h5py pyyaml "
      ],
      "execution_count": 0,
      "outputs": []
    },
    {
      "metadata": {
        "id": "LHXov_C-_h-H",
        "colab_type": "text"
      },
      "cell_type": "markdown",
      "source": [
        "### Get an example dataset"
      ]
    },
    {
      "metadata": {
        "id": "9E5sMwQw_oCW",
        "colab_type": "text"
      },
      "cell_type": "markdown",
      "source": [
        "We'll use the MNIST dataset to train our model to demonstrate saving weights. To speed up these demonstration runs, only use the first 1000 examples:"
      ]
    },
    {
      "metadata": {
        "id": "7L568fDJ_Zy-",
        "colab_type": "code",
        "colab": {
          "base_uri": "https://localhost:8080/",
          "height": 34
        },
        "outputId": "02cd6871-7ab9-4adc-f877-68e9e390732b"
      },
      "cell_type": "code",
      "source": [
        "from __future__ import absolute_import, division, print_function\n",
        "\n",
        "import os\n",
        "\n",
        "import tensorflow as tf\n",
        "from tensorflow import keras\n",
        "\n",
        "tf.__version__"
      ],
      "execution_count": 2,
      "outputs": [
        {
          "output_type": "execute_result",
          "data": {
            "text/plain": [
              "'1.13.1'"
            ]
          },
          "metadata": {
            "tags": []
          },
          "execution_count": 2
        }
      ]
    },
    {
      "metadata": {
        "id": "zHpMLwWh_sjK",
        "colab_type": "code",
        "colab": {}
      },
      "cell_type": "code",
      "source": [
        "(train_images, train_labels), (test_images, test_labels) = tf.keras.datasets.mnist.load_data()\n",
        "\n",
        "train_labels = train_labels[:1000]\n",
        "test_labels = test_labels[:1000]"
      ],
      "execution_count": 0,
      "outputs": []
    },
    {
      "metadata": {
        "id": "p8dFFg_6CXb1",
        "colab_type": "code",
        "colab": {}
      },
      "cell_type": "code",
      "source": [
        "train_images = train_images[:1000].reshape(-1, 28 * 28) / 255.0\n",
        "test_images = test_images[:1000].reshape(-1, 28 * 28) / 255.0"
      ],
      "execution_count": 0,
      "outputs": []
    },
    {
      "metadata": {
        "id": "rTWR-aDECoJ8",
        "colab_type": "text"
      },
      "cell_type": "markdown",
      "source": [
        "## Define a model"
      ]
    },
    {
      "metadata": {
        "id": "Xv7Kb-HECv01",
        "colab_type": "text"
      },
      "cell_type": "markdown",
      "source": [
        "Let's build a simple model we'll use to demonstrate saving and loading weights."
      ]
    },
    {
      "metadata": {
        "id": "NRICz-5cBzVY",
        "colab_type": "code",
        "colab": {
          "base_uri": "https://localhost:8080/",
          "height": 371
        },
        "outputId": "cda3847e-5df0-4501-94b6-20d5ffec68fa"
      },
      "cell_type": "code",
      "source": [
        " # Returns a short sequential model\n",
        "def create_model():\n",
        "  model = tf.keras.models.Sequential([\n",
        "    keras.layers.Dense(512, activation=tf.keras.activations.relu, input_shape=(784,)),\n",
        "    keras.layers.Dropout(0.2),\n",
        "    keras.layers.Dense(10, activation=tf.keras.activations.softmax)\n",
        "  ])\n",
        "  \n",
        "  model.compile(optimizer=tf.keras.optimizers.Adam(),\n",
        "                loss=tf.keras.losses.sparse_categorical_crossentropy,\n",
        "                metrics=['accuracy'])\n",
        "  \n",
        "  return model\n",
        "\n",
        "\n",
        "# Create a basic model instance\n",
        "model = create_model()\n",
        "model.summary()"
      ],
      "execution_count": 15,
      "outputs": [
        {
          "output_type": "stream",
          "text": [
            "WARNING:tensorflow:From /usr/local/lib/python3.6/dist-packages/tensorflow/python/ops/resource_variable_ops.py:435: colocate_with (from tensorflow.python.framework.ops) is deprecated and will be removed in a future version.\n",
            "Instructions for updating:\n",
            "Colocations handled automatically by placer.\n",
            "WARNING:tensorflow:From /usr/local/lib/python3.6/dist-packages/tensorflow/python/keras/layers/core.py:143: calling dropout (from tensorflow.python.ops.nn_ops) with keep_prob is deprecated and will be removed in a future version.\n",
            "Instructions for updating:\n",
            "Please use `rate` instead of `keep_prob`. Rate should be set to `rate = 1 - keep_prob`.\n",
            "_________________________________________________________________\n",
            "Layer (type)                 Output Shape              Param #   \n",
            "=================================================================\n",
            "dense (Dense)                (None, 512)               401920    \n",
            "_________________________________________________________________\n",
            "dropout (Dropout)            (None, 512)               0         \n",
            "_________________________________________________________________\n",
            "dense_1 (Dense)              (None, 10)                5130      \n",
            "=================================================================\n",
            "Total params: 407,050\n",
            "Trainable params: 407,050\n",
            "Non-trainable params: 0\n",
            "_________________________________________________________________\n"
          ],
          "name": "stdout"
        }
      ]
    }
  ]
}
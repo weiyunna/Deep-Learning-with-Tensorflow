{
  "nbformat": 4,
  "nbformat_minor": 0,
  "metadata": {
    "colab": {
      "name": "Word Embedding",
      "version": "0.3.2",
      "provenance": [],
      "collapsed_sections": [],
      "include_colab_link": true
    },
    "kernelspec": {
      "name": "python3",
      "display_name": "Python 3"
    }
  },
  "cells": [
    {
      "cell_type": "markdown",
      "metadata": {
        "id": "view-in-github",
        "colab_type": "text"
      },
      "source": [
        "<a href=\"https://colab.research.google.com/github/weiyunna/Deep-Learning-with-Tensorflow/blob/master/Word_Embedding.ipynb\" target=\"_parent\"><img src=\"https://colab.research.google.com/assets/colab-badge.svg\" alt=\"Open In Colab\"/></a>"
      ]
    },
    {
      "metadata": {
        "id": "ETI9wvMv2DSC",
        "colab_type": "text"
      },
      "cell_type": "markdown",
      "source": [
        "# Intro to Word Embedding"
      ]
    },
    {
      "metadata": {
        "id": "gTcOYbi22O2p",
        "colab_type": "text"
      },
      "cell_type": "markdown",
      "source": [
        "This tutorial introduces word embeddings. It contains complete code to train word embeddings from scratch on a small dataset, and to visualize these embeddings using the** Embedding Projector** (shown in the image below)."
      ]
    },
    {
      "metadata": {
        "id": "W3x8Bm0b2adR",
        "colab_type": "text"
      },
      "cell_type": "markdown",
      "source": [
        "## Represent text as numbers"
      ]
    },
    {
      "metadata": {
        "id": "y4y-hpQR2n_J",
        "colab_type": "text"
      },
      "cell_type": "markdown",
      "source": [
        "Machine learning models take vectors (arrays of numbers) as input. When working with text, the first thing we must do come up with a strategy to convert strings to numbers (or to \"**vectorize**\" the text) before feeding it to the model. In this section, we will look at three strategies for doing so."
      ]
    },
    {
      "metadata": {
        "id": "BSpGKGTN2GQ3",
        "colab_type": "code",
        "colab": {}
      },
      "cell_type": "code",
      "source": [
        ""
      ],
      "execution_count": 0,
      "outputs": []
    }
  ]
}
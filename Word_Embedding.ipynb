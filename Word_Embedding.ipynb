{
  "nbformat": 4,
  "nbformat_minor": 0,
  "metadata": {
    "colab": {
      "name": "Word Embedding",
      "version": "0.3.2",
      "provenance": [],
      "collapsed_sections": [],
      "include_colab_link": true
    },
    "kernelspec": {
      "name": "python3",
      "display_name": "Python 3"
    }
  },
  "cells": [
    {
      "cell_type": "markdown",
      "metadata": {
        "id": "view-in-github",
        "colab_type": "text"
      },
      "source": [
        "<a href=\"https://colab.research.google.com/github/weiyunna/Deep-Learning-with-Tensorflow/blob/master/Word_Embedding.ipynb\" target=\"_parent\"><img src=\"https://colab.research.google.com/assets/colab-badge.svg\" alt=\"Open In Colab\"/></a>"
      ]
    },
    {
      "metadata": {
        "id": "ETI9wvMv2DSC",
        "colab_type": "text"
      },
      "cell_type": "markdown",
      "source": [
        "# Intro to Word Embedding"
      ]
    },
    {
      "metadata": {
        "id": "gTcOYbi22O2p",
        "colab_type": "text"
      },
      "cell_type": "markdown",
      "source": [
        "This tutorial introduces word embeddings. It contains complete code to train word embeddings from scratch on a small dataset, and to visualize these embeddings using the** Embedding Projector** (shown in the image below)."
      ]
    },
    {
      "metadata": {
        "id": "W3x8Bm0b2adR",
        "colab_type": "text"
      },
      "cell_type": "markdown",
      "source": [
        "## Represent text as numbers"
      ]
    },
    {
      "metadata": {
        "id": "y4y-hpQR2n_J",
        "colab_type": "text"
      },
      "cell_type": "markdown",
      "source": [
        "Machine learning models take vectors (arrays of numbers) as input. When working with text, the first thing we must do come up with a strategy to convert strings to numbers (or to \"**vectorize**\" the text) before feeding it to the model. In this section, we will look at three strategies for doing so."
      ]
    },
    {
      "metadata": {
        "id": "uxR8Z-fGbQ_K",
        "colab_type": "text"
      },
      "cell_type": "markdown",
      "source": [
        "### One-hot encodings"
      ]
    },
    {
      "metadata": {
        "id": "qxQsHeztblU5",
        "colab_type": "text"
      },
      "cell_type": "markdown",
      "source": [
        "As a first idea, we might \"one-hot\" encode each word in our vocabulary. Consider the sentence \"The cat sat on the mat\". The vocabulary (or unique words) in this sentence is (cat, mat, on, sat, the). To represent each word, we will create a zero vector with `length equal to the vocabulary`, then place a one in the index that corresponds to the word. This approach is shown in the following diagram."
      ]
    },
    {
      "metadata": {
        "id": "pcqlrWCmb42C",
        "colab_type": "text"
      },
      "cell_type": "markdown",
      "source": [
        "To create a vector that contains the encoding of the sentence, we could then concatenate the one-hot vectors for each word.\n",
        "\n",
        "Key point: This approach is inefficient. A one-hot encoded vector is **sparse** (meaning, most indicices are zero). Imagine we have 10,000 words in the vocabulary. To one-hot encode each word, we would create a vector where 99.99% of the elements are zero."
      ]
    },
    {
      "metadata": {
        "id": "R5kBYUqScDlv",
        "colab_type": "text"
      },
      "cell_type": "markdown",
      "source": [
        "### Encode each word with a unique number"
      ]
    },
    {
      "metadata": {
        "id": "j5SblSUNcMlZ",
        "colab_type": "text"
      },
      "cell_type": "markdown",
      "source": [
        "A second approach we might try is to encode each word using a unique number. Continuing the example above, we could assign 1 to \"cat\", 2 to \"mat\", and so on. We could then encode the sentence \"The cat sat on the mat\" as a dense vector like [5, 1, 4, 3, 5, 2]. This appoach is efficient. Instead of a sparse vector, we now have a dense one (where all elements are full)."
      ]
    },
    {
      "metadata": {
        "id": "e78tEUmlci-x",
        "colab_type": "text"
      },
      "cell_type": "markdown",
      "source": [
        "There are two downsides to this approach, however:\n",
        "\n",
        "* The integer-encoding is arbitrary (it does not capture any relationship between words).\n",
        "\n",
        "* An integer-encoding can be challenging for a model to interpret. A linear classifier, for example, learns a single weight for each feature. Because different words may have a similar encoding, this feature-weight combination is not meaningful."
      ]
    },
    {
      "metadata": {
        "id": "K-2jzwOidAvq",
        "colab_type": "text"
      },
      "cell_type": "markdown",
      "source": [
        "### Word embeddings"
      ]
    },
    {
      "metadata": {
        "id": "DmoGIJlzdX0Z",
        "colab_type": "text"
      },
      "cell_type": "markdown",
      "source": [
        "Word embeddings give us a way to use an efficient, dense representation in which **similar words have a similar encoding**. \n",
        "\n",
        "Importantly, we do not have to specify this encoding by hand. \n",
        "\n",
        "An embedding is **a dense vector of floating point values ** (the length of the vector is a parameter you specify). \n",
        "\n",
        "Instead of specifying the values for the embedding manually, they are **trainable parameters** (weights learned by the model during training, in the same way a model learns weights for a dense layer). \n",
        "\n",
        "It is common to see word embeddings that **8-dimensional** (for small datasets), up to **1024-dimensions **when working with large datasets. \n",
        "\n",
        "A higher dimensional embedding can capture fine-grained relationships between words, but takes more data to learn."
      ]
    },
    {
      "metadata": {
        "id": "C46dwXDVeCP5",
        "colab_type": "text"
      },
      "cell_type": "markdown",
      "source": [
        "Above is a diagram for a word embedding. \n",
        "\n",
        "Each word is represented as a 4-dimensional vector of floating point values. \n",
        "\n",
        "Another way to think of an embedding is as **\"lookup table\"**. \n",
        "\n",
        "After these weights have been learned, we can encode each word by looking up the dense vector it corresponds to in the table."
      ]
    },
    {
      "metadata": {
        "id": "ShDTrRAneV0j",
        "colab_type": "text"
      },
      "cell_type": "markdown",
      "source": [
        "## Using the Embedding layer"
      ]
    },
    {
      "metadata": {
        "id": "FltWol00ejwz",
        "colab_type": "text"
      },
      "cell_type": "markdown",
      "source": [
        "Keras makes it easy to use word embeddings. Let's take a look at the **Embedding** layer."
      ]
    },
    {
      "metadata": {
        "id": "BSpGKGTN2GQ3",
        "colab_type": "code",
        "colab": {
          "base_uri": "https://localhost:8080/",
          "height": 87
        },
        "outputId": "1ad71adb-3c3b-4ca8-d943-2f0f4f519f83"
      },
      "cell_type": "code",
      "source": [
        "from __future__ import absolute_import, division, print_function, unicode_literals\n",
        "\n",
        "!pip install -q tensorflow==2.0.0-alpha0\n",
        "import tensorflow as tf\n",
        "\n",
        "from tensorflow import keras\n",
        "from tensorflow.keras import layers\n",
        "\n",
        "# The Embedding layer takes at least two arguments:\n",
        "# the number of possible words in the vocabulary, here 1000 (1 + maximum word index),\n",
        "# and the dimensionality of the embeddings, here 32.\n",
        "embedding_layer = layers.Embedding(1000, 32)"
      ],
      "execution_count": 1,
      "outputs": [
        {
          "output_type": "stream",
          "text": [
            "\u001b[K    100% |████████████████████████████████| 79.9MB 299kB/s \n",
            "\u001b[K    100% |████████████████████████████████| 3.0MB 8.6MB/s \n",
            "\u001b[K    100% |████████████████████████████████| 419kB 15.7MB/s \n",
            "\u001b[K    100% |████████████████████████████████| 61kB 23.0MB/s \n",
            "\u001b[?25h"
          ],
          "name": "stdout"
        }
      ]
    },
    {
      "metadata": {
        "id": "EoKmLISCgKUz",
        "colab_type": "text"
      },
      "cell_type": "markdown",
      "source": [
        "The Embedding layer can be understood as a lookup table that maps from integer indices (which stand for specific words) to dense vectors (their embeddings). \n",
        "\n",
        "The dimensionality (or width) of the embedding is a parameter you can experiment with to see what works well for your problem, much in the same way you would experiment with the number of neurons in a Dense layer."
      ]
    },
    {
      "metadata": {
        "id": "a-3l0XxBgbY7",
        "colab_type": "text"
      },
      "cell_type": "markdown",
      "source": [
        "When you create an Embedding layer, the weights for the embedding are randomly initialized (just like any other layer). \n",
        "\n",
        "During training, they are gradually adjusted via backpropagation. Once trained, the learned word embeddings will roughly encode **similarities** between words (as they were learned for the specific problem your model is trained on)."
      ]
    },
    {
      "metadata": {
        "id": "AVJvUWCegx8c",
        "colab_type": "text"
      },
      "cell_type": "markdown",
      "source": [
        "As **input**, the Embedding layer takes a 2D tensor of integers, of shape (samples, sequence_length), where each entry is a sequence of integers. \n",
        "\n",
        "It can embed sequences of variable lengths. You could feed into the embedding layer above batches with shapes (32, 10) (batch of 32 sequences of length 10) or (64, 15) (batch of 64 sequences of length 15).\n",
        "\n",
        "All sequences in a batch must have the same length, so sequences that are shorter than others should be **padded** with zeros, and sequences that are longer should be **truncated**."
      ]
    },
    {
      "metadata": {
        "id": "JVzfLMv7h5ub",
        "colab_type": "text"
      },
      "cell_type": "markdown",
      "source": [
        "As output, the embedding layer returns a **3D** floating point tensor, of shape (**samples, sequence_length, embedding_dimensionality**). \n",
        "\n",
        "Such a 3D tensor can then be processed by a RNN layer, or can simply be flattened or pooled and processed by a Dense layer. We will show the first approach in this tutorial, and you can refer to the Text Classification with an RNN to learn the second."
      ]
    },
    {
      "metadata": {
        "id": "abiJym7FieFf",
        "colab_type": "text"
      },
      "cell_type": "markdown",
      "source": [
        "## Learning Embeddings from Scratch"
      ]
    },
    {
      "metadata": {
        "id": "Q1uyD60eimWI",
        "colab_type": "text"
      },
      "cell_type": "markdown",
      "source": [
        "We will train a sentiment classifier on IMDB movie reviews. \n",
        "\n",
        "In the process, we will learn embeddings from scratch. \n",
        "\n",
        "We will move quickly through the code that downloads and preprocesses the dataset (see this tutorial for more details)."
      ]
    },
    {
      "metadata": {
        "id": "w1XtQRh6gTgF",
        "colab_type": "code",
        "colab": {
          "base_uri": "https://localhost:8080/",
          "height": 52
        },
        "outputId": "10b12426-720d-4169-9b0f-faf627a4da14"
      },
      "cell_type": "code",
      "source": [
        "vocab_size = 10000\n",
        "imdb = keras.datasets.imdb\n",
        "(train_data, train_labels), (test_data, test_labels) = imdb.load_data(num_words=vocab_size)"
      ],
      "execution_count": 2,
      "outputs": [
        {
          "output_type": "stream",
          "text": [
            "Downloading data from https://storage.googleapis.com/tensorflow/tf-keras-datasets/imdb.npz\n",
            "17465344/17464789 [==============================] - 3s 0us/step\n"
          ],
          "name": "stdout"
        }
      ]
    },
    {
      "metadata": {
        "id": "JcuO-gEnjTNI",
        "colab_type": "text"
      },
      "cell_type": "markdown",
      "source": [
        "As imported, the text of reviews is integer-encoded (each integer represents a specific word in a dictionary)."
      ]
    },
    {
      "metadata": {
        "id": "Y6FrPDffjlim",
        "colab_type": "code",
        "colab": {
          "base_uri": "https://localhost:8080/",
          "height": 54
        },
        "outputId": "7463bf13-2a81-4da9-f63b-2e25feb017c9"
      },
      "cell_type": "code",
      "source": [
        "print(train_data[0])"
      ],
      "execution_count": 3,
      "outputs": [
        {
          "output_type": "stream",
          "text": [
            "[1, 14, 22, 16, 43, 530, 973, 1622, 1385, 65, 458, 4468, 66, 3941, 4, 173, 36, 256, 5, 25, 100, 43, 838, 112, 50, 670, 2, 9, 35, 480, 284, 5, 150, 4, 172, 112, 167, 2, 336, 385, 39, 4, 172, 4536, 1111, 17, 546, 38, 13, 447, 4, 192, 50, 16, 6, 147, 2025, 19, 14, 22, 4, 1920, 4613, 469, 4, 22, 71, 87, 12, 16, 43, 530, 38, 76, 15, 13, 1247, 4, 22, 17, 515, 17, 12, 16, 626, 18, 2, 5, 62, 386, 12, 8, 316, 8, 106, 5, 4, 2223, 5244, 16, 480, 66, 3785, 33, 4, 130, 12, 16, 38, 619, 5, 25, 124, 51, 36, 135, 48, 25, 1415, 33, 6, 22, 12, 215, 28, 77, 52, 5, 14, 407, 16, 82, 2, 8, 4, 107, 117, 5952, 15, 256, 4, 2, 7, 3766, 5, 723, 36, 71, 43, 530, 476, 26, 400, 317, 46, 7, 4, 2, 1029, 13, 104, 88, 4, 381, 15, 297, 98, 32, 2071, 56, 26, 141, 6, 194, 7486, 18, 4, 226, 22, 21, 134, 476, 26, 480, 5, 144, 30, 5535, 18, 51, 36, 28, 224, 92, 25, 104, 4, 226, 65, 16, 38, 1334, 88, 12, 16, 283, 5, 16, 4472, 113, 103, 32, 15, 16, 5345, 19, 178, 32]\n"
          ],
          "name": "stdout"
        }
      ]
    },
    {
      "metadata": {
        "id": "TnkbHerajsaw",
        "colab_type": "text"
      },
      "cell_type": "markdown",
      "source": [
        "### Convert the integers back to words"
      ]
    },
    {
      "metadata": {
        "id": "osCFfpvuj6lx",
        "colab_type": "text"
      },
      "cell_type": "markdown",
      "source": [
        "It may be useful to know how to convert integers back to text. Here, we'll create a helper function to query **a dictionary object that contains the integer to string mapping:**"
      ]
    },
    {
      "metadata": {
        "id": "kYmY1DMWjnHJ",
        "colab_type": "code",
        "colab": {
          "base_uri": "https://localhost:8080/",
          "height": 90
        },
        "outputId": "76f6aace-d76e-4fc8-d0d3-c5f9bbbfd4b1"
      },
      "cell_type": "code",
      "source": [
        "# A dictionary mapping words to an integer index\n",
        "word_index = imdb.get_word_index()\n",
        "\n",
        "# The first indices are reserved\n",
        "word_index = {k:(v+3) for k,v in word_index.items()}\n",
        "word_index[\"<PAD>\"] = 0\n",
        "word_index[\"<START>\"] = 1\n",
        "word_index[\"<UNK>\"] = 2  # unknown\n",
        "word_index[\"<UNUSED>\"] = 3\n",
        "\n",
        "reverse_word_index = dict([(value, key) for (key, value) in word_index.items()])\n",
        "\n",
        "def decode_review(text):\n",
        "    return ' '.join([reverse_word_index.get(i, '?') for i in text])\n",
        "\n",
        "decode_review(train_data[0])"
      ],
      "execution_count": 4,
      "outputs": [
        {
          "output_type": "stream",
          "text": [
            "Downloading data from https://storage.googleapis.com/tensorflow/tf-keras-datasets/imdb_word_index.json\n",
            "1646592/1641221 [==============================] - 0s 0us/step\n"
          ],
          "name": "stdout"
        },
        {
          "output_type": "execute_result",
          "data": {
            "text/plain": [
              "\"<START> this film was just brilliant casting location scenery story direction everyone's really suited the part they played and you could just imagine being there robert <UNK> is an amazing actor and now the same being director <UNK> father came from the same scottish island as myself so i loved the fact there was a real connection with this film the witty remarks throughout the film were great it was just brilliant so much that i bought the film as soon as it was released for <UNK> and would recommend it to everyone to watch and the fly fishing was amazing really cried at the end it was so sad and you know what they say if you cry at a film it must have been good and this definitely was also <UNK> to the two little boy's that played the <UNK> of norman and paul they were just brilliant children are often left out of the <UNK> list i think because the stars that play them all grown up are such a big profile for the whole film but these children are amazing and should be praised for what they have done don't you think the whole story was so lovely because it was true and was someone's life after all that was shared with us all\""
            ]
          },
          "metadata": {
            "tags": []
          },
          "execution_count": 4
        }
      ]
    },
    {
      "metadata": {
        "id": "SaWiJXVFlQ2N",
        "colab_type": "code",
        "colab": {}
      },
      "cell_type": "code",
      "source": [
        "word_index\n",
        "reverse_word_index"
      ],
      "execution_count": 0,
      "outputs": []
    },
    {
      "metadata": {
        "id": "6j76hl-Ql5lz",
        "colab_type": "text"
      },
      "cell_type": "markdown",
      "source": [
        "Movie reviews can be different lengths. We will use the **pad_sequences ** function to standardize the lengths of the reviews."
      ]
    },
    {
      "metadata": {
        "id": "_9RisArqlXMT",
        "colab_type": "code",
        "colab": {}
      },
      "cell_type": "code",
      "source": [
        "maxlen = 500\n",
        "\n",
        "train_data = keras.preprocessing.sequence.pad_sequences(train_data,\n",
        "                                                        value=word_index[\"<PAD>\"],\n",
        "                                                        padding='post',\n",
        "                                                        maxlen=maxlen)\n",
        "\n",
        "test_data = keras.preprocessing.sequence.pad_sequences(test_data,\n",
        "                                                       value=word_index[\"<PAD>\"],\n",
        "                                                       padding='post',\n",
        "                                                       maxlen=maxlen)"
      ],
      "execution_count": 0,
      "outputs": []
    },
    {
      "metadata": {
        "id": "fRWYlVugmKTr",
        "colab_type": "code",
        "colab": {}
      },
      "cell_type": "code",
      "source": [
        "# Let's inspect the first padded review.\n",
        "\n",
        "print(train_data[0])"
      ],
      "execution_count": 0,
      "outputs": []
    },
    {
      "metadata": {
        "id": "gmZ0TyFWmV08",
        "colab_type": "text"
      },
      "cell_type": "markdown",
      "source": [
        "##Create a simple model"
      ]
    },
    {
      "metadata": {
        "id": "Glo_DAL8mpIs",
        "colab_type": "text"
      },
      "cell_type": "markdown",
      "source": [
        "We will use the Keras Sequential API to define our model.\n",
        "\n",
        "* The first layer is an Embedding layer. This layer takes the integer-encoded vocabulary and looks up the embedding vector for each word-index. These vectors are learned as the model trains. The vectors add a dimension to the output array. **The resulting dimensions are: (batch, sequence, embedding)`.**\n",
        "\n",
        "* Next, a **GlobalAveragePooling1D** layer returns a fixed-length output vector for each example by averaging over the sequence dimension. This allows the model to handle input of variable length, in the simplest way possible.\n",
        "\n",
        "* This fixed-length output vector is piped through a **fully-connected (Dense)** layer with 16 hidden units.\n",
        "\n",
        "* The last layer is densely connected with a single output node. Using the sigmoid activation function, this value is a float between 0 and 1, representing a **probability** (or confidence level) that the review is positive."
      ]
    },
    {
      "metadata": {
        "id": "KVa7UwJQmdVK",
        "colab_type": "code",
        "colab": {
          "base_uri": "https://localhost:8080/",
          "height": 298
        },
        "outputId": "7264e420-7f67-46e7-8594-f094163111cf"
      },
      "cell_type": "code",
      "source": [
        "embedding_dim=16\n",
        "\n",
        "model = keras.Sequential([\n",
        "  layers.Embedding(vocab_size, embedding_dim, input_length=maxlen),\n",
        "  layers.GlobalAveragePooling1D(),\n",
        "  layers.Dense(16, activation='relu'),\n",
        "  layers.Dense(1, activation='sigmoid')\n",
        "])\n",
        "\n",
        "model.summary()"
      ],
      "execution_count": 9,
      "outputs": [
        {
          "output_type": "stream",
          "text": [
            "Model: \"sequential\"\n",
            "_________________________________________________________________\n",
            "Layer (type)                 Output Shape              Param #   \n",
            "=================================================================\n",
            "embedding_1 (Embedding)      (None, 500, 16)           160000    \n",
            "_________________________________________________________________\n",
            "global_average_pooling1d (Gl (None, 16)                0         \n",
            "_________________________________________________________________\n",
            "dense (Dense)                (None, 16)                272       \n",
            "_________________________________________________________________\n",
            "dense_1 (Dense)              (None, 1)                 17        \n",
            "=================================================================\n",
            "Total params: 160,289\n",
            "Trainable params: 160,289\n",
            "Non-trainable params: 0\n",
            "_________________________________________________________________\n"
          ],
          "name": "stdout"
        }
      ]
    },
    {
      "metadata": {
        "id": "eih7vulMnpQO",
        "colab_type": "text"
      },
      "cell_type": "markdown",
      "source": [
        "### Compile and train the model"
      ]
    },
    {
      "metadata": {
        "id": "r0wQ8m3lnkZw",
        "colab_type": "code",
        "colab": {
          "base_uri": "https://localhost:8080/",
          "height": 1110
        },
        "outputId": "84136f6f-cbe8-4c21-901d-fa768144d052"
      },
      "cell_type": "code",
      "source": [
        "model.compile(optimizer='adam',\n",
        "              loss='binary_crossentropy',\n",
        "              metrics=['accuracy'])\n",
        "\n",
        "history = model.fit(\n",
        "    train_data,\n",
        "    train_labels,\n",
        "    epochs=30,\n",
        "    batch_size=512,\n",
        "    validation_split=0.2)"
      ],
      "execution_count": 10,
      "outputs": [
        {
          "output_type": "stream",
          "text": [
            "Train on 20000 samples, validate on 5000 samples\n",
            "Epoch 1/30\n",
            "20000/20000 [==============================] - 2s 111us/sample - loss: 0.6927 - accuracy: 0.5207 - val_loss: 0.6920 - val_accuracy: 0.5654\n",
            "Epoch 2/30\n",
            "20000/20000 [==============================] - 2s 93us/sample - loss: 0.6908 - accuracy: 0.6351 - val_loss: 0.6889 - val_accuracy: 0.5826\n",
            "Epoch 3/30\n",
            "20000/20000 [==============================] - 2s 95us/sample - loss: 0.6864 - accuracy: 0.6606 - val_loss: 0.6823 - val_accuracy: 0.7256\n",
            "Epoch 4/30\n",
            "20000/20000 [==============================] - 2s 98us/sample - loss: 0.6770 - accuracy: 0.7405 - val_loss: 0.6688 - val_accuracy: 0.7284\n",
            "Epoch 5/30\n",
            "20000/20000 [==============================] - 2s 100us/sample - loss: 0.6595 - accuracy: 0.7645 - val_loss: 0.6463 - val_accuracy: 0.7784\n",
            "Epoch 6/30\n",
            "20000/20000 [==============================] - 2s 101us/sample - loss: 0.6314 - accuracy: 0.7903 - val_loss: 0.6136 - val_accuracy: 0.7868\n",
            "Epoch 7/30\n",
            "20000/20000 [==============================] - 2s 95us/sample - loss: 0.5949 - accuracy: 0.8011 - val_loss: 0.5759 - val_accuracy: 0.7902\n",
            "Epoch 8/30\n",
            "20000/20000 [==============================] - 2s 96us/sample - loss: 0.5529 - accuracy: 0.8188 - val_loss: 0.5356 - val_accuracy: 0.8100\n",
            "Epoch 9/30\n",
            "20000/20000 [==============================] - 2s 97us/sample - loss: 0.5106 - accuracy: 0.8363 - val_loss: 0.4975 - val_accuracy: 0.8268\n",
            "Epoch 10/30\n",
            "20000/20000 [==============================] - 2s 95us/sample - loss: 0.4699 - accuracy: 0.8522 - val_loss: 0.4635 - val_accuracy: 0.8406\n",
            "Epoch 11/30\n",
            "20000/20000 [==============================] - 2s 96us/sample - loss: 0.4334 - accuracy: 0.8618 - val_loss: 0.4336 - val_accuracy: 0.8498\n",
            "Epoch 12/30\n",
            "20000/20000 [==============================] - 2s 97us/sample - loss: 0.4017 - accuracy: 0.8705 - val_loss: 0.4094 - val_accuracy: 0.8562\n",
            "Epoch 13/30\n",
            "20000/20000 [==============================] - 2s 95us/sample - loss: 0.3745 - accuracy: 0.8781 - val_loss: 0.3888 - val_accuracy: 0.8614\n",
            "Epoch 14/30\n",
            "20000/20000 [==============================] - 2s 97us/sample - loss: 0.3512 - accuracy: 0.8838 - val_loss: 0.3721 - val_accuracy: 0.8650\n",
            "Epoch 15/30\n",
            "20000/20000 [==============================] - 2s 96us/sample - loss: 0.3325 - accuracy: 0.8898 - val_loss: 0.3584 - val_accuracy: 0.8688\n",
            "Epoch 16/30\n",
            "20000/20000 [==============================] - 2s 97us/sample - loss: 0.3151 - accuracy: 0.8924 - val_loss: 0.3521 - val_accuracy: 0.8656\n",
            "Epoch 17/30\n",
            "20000/20000 [==============================] - 2s 96us/sample - loss: 0.3007 - accuracy: 0.8975 - val_loss: 0.3381 - val_accuracy: 0.8738\n",
            "Epoch 18/30\n",
            "20000/20000 [==============================] - 2s 94us/sample - loss: 0.2866 - accuracy: 0.9014 - val_loss: 0.3294 - val_accuracy: 0.8746\n",
            "Epoch 19/30\n",
            "20000/20000 [==============================] - 2s 92us/sample - loss: 0.2748 - accuracy: 0.9060 - val_loss: 0.3230 - val_accuracy: 0.8776\n",
            "Epoch 20/30\n",
            "20000/20000 [==============================] - 2s 94us/sample - loss: 0.2641 - accuracy: 0.9100 - val_loss: 0.3168 - val_accuracy: 0.8796\n",
            "Epoch 21/30\n",
            "20000/20000 [==============================] - 2s 93us/sample - loss: 0.2548 - accuracy: 0.9136 - val_loss: 0.3116 - val_accuracy: 0.8804\n",
            "Epoch 22/30\n",
            "20000/20000 [==============================] - 2s 93us/sample - loss: 0.2466 - accuracy: 0.9147 - val_loss: 0.3072 - val_accuracy: 0.8828\n",
            "Epoch 23/30\n",
            "20000/20000 [==============================] - 2s 94us/sample - loss: 0.2380 - accuracy: 0.9178 - val_loss: 0.3038 - val_accuracy: 0.8844\n",
            "Epoch 24/30\n",
            "20000/20000 [==============================] - 2s 92us/sample - loss: 0.2304 - accuracy: 0.9204 - val_loss: 0.3003 - val_accuracy: 0.8864\n",
            "Epoch 25/30\n",
            "20000/20000 [==============================] - 2s 91us/sample - loss: 0.2234 - accuracy: 0.9227 - val_loss: 0.2988 - val_accuracy: 0.8864\n",
            "Epoch 26/30\n",
            "20000/20000 [==============================] - 2s 92us/sample - loss: 0.2174 - accuracy: 0.9241 - val_loss: 0.2943 - val_accuracy: 0.8884\n",
            "Epoch 27/30\n",
            "20000/20000 [==============================] - 2s 94us/sample - loss: 0.2107 - accuracy: 0.9269 - val_loss: 0.2932 - val_accuracy: 0.8890\n",
            "Epoch 28/30\n",
            "20000/20000 [==============================] - 2s 93us/sample - loss: 0.2049 - accuracy: 0.9288 - val_loss: 0.2913 - val_accuracy: 0.8880\n",
            "Epoch 29/30\n",
            "20000/20000 [==============================] - 2s 93us/sample - loss: 0.1991 - accuracy: 0.9311 - val_loss: 0.2883 - val_accuracy: 0.8890\n",
            "Epoch 30/30\n",
            "20000/20000 [==============================] - 2s 94us/sample - loss: 0.1936 - accuracy: 0.9334 - val_loss: 0.2877 - val_accuracy: 0.8886\n"
          ],
          "name": "stdout"
        }
      ]
    },
    {
      "metadata": {
        "id": "eyplTvSln9eW",
        "colab_type": "text"
      },
      "cell_type": "markdown",
      "source": [
        "With this approach our model reaches a validation accuracy of around 88% (note the model is overfitting, training accuracy is significantly higher)."
      ]
    },
    {
      "metadata": {
        "id": "l6MJRAuPnwe6",
        "colab_type": "code",
        "colab": {
          "base_uri": "https://localhost:8080/",
          "height": 567
        },
        "outputId": "16c35f77-4d6c-4599-bfab-d8d40a52a20d"
      },
      "cell_type": "code",
      "source": [
        "import matplotlib.pyplot as plt\n",
        "\n",
        "acc = history.history['accuracy']\n",
        "val_acc = history.history['val_accuracy']\n",
        "\n",
        "epochs = range(1, len(acc) + 1)\n",
        "\n",
        "plt.figure(figsize=(12,9))\n",
        "plt.plot(epochs, acc, 'bo', label='Training acc')\n",
        "plt.plot(epochs, val_acc, 'b', label='Validation acc')\n",
        "plt.title('Training and validation accuracy')\n",
        "plt.xlabel('Epochs')\n",
        "plt.ylabel('Accuracy')\n",
        "plt.legend(loc='lower right')\n",
        "plt.ylim((0.5,1))\n",
        "\n",
        "plt.show()"
      ],
      "execution_count": 11,
      "outputs": [
        {
          "output_type": "display_data",
          "data": {
            "image/png": "[encoded data removed]",
            "text/plain": [
              "<Figure size 864x648 with 1 Axes>"
            ]
          },
          "metadata": {
            "tags": []
          }
        }
      ]
    },
    {
      "metadata": {
        "id": "7p3ac2g3oJcI",
        "colab_type": "text"
      },
      "cell_type": "markdown",
      "source": [
        "## Retrieve the Learned Embeddings"
      ]
    },
    {
      "metadata": {
        "id": "CQSDoOiDoVBN",
        "colab_type": "text"
      },
      "cell_type": "markdown",
      "source": [
        "Next, let's retrieve the word embeddings learned during training. This will be a matrix of shape (**vocab_size,embedding-dimension**)."
      ]
    },
    {
      "metadata": {
        "id": "4NBds3o9oTfl",
        "colab_type": "code",
        "colab": {
          "base_uri": "https://localhost:8080/",
          "height": 34
        },
        "outputId": "0fd56bc0-4bf1-4d79-a682-b4a55a55c9c2"
      },
      "cell_type": "code",
      "source": [
        "e = model.layers[0]\n",
        "weights = e.get_weights()[0]\n",
        "print(weights.shape) # shape: (vocab_size, embedding_dim)"
      ],
      "execution_count": 12,
      "outputs": [
        {
          "output_type": "stream",
          "text": [
            "(10000, 16)\n"
          ],
          "name": "stdout"
        }
      ]
    },
    {
      "metadata": {
        "id": "84DUoi_to7nF",
        "colab_type": "text"
      },
      "cell_type": "markdown",
      "source": [
        "We will now write the weights to disk. To use the Embedding Projector, we will upload two files in tab separated format: a file of vectors (**containing the embedding**), and a file of meta data (**containing the words**)."
      ]
    },
    {
      "metadata": {
        "id": "NlVD1ZmxovCv",
        "colab_type": "code",
        "colab": {}
      },
      "cell_type": "code",
      "source": [
        "import io\n",
        "\n",
        "out_v = io.open('vecs.tsv', 'w', encoding='utf-8')\n",
        "out_m = io.open('meta.tsv', 'w', encoding='utf-8')\n",
        "for word_num in range(vocab_size):\n",
        "  word = reverse_word_index[word_num]\n",
        "  embeddings = weights[word_num]\n",
        "  out_m.write(word + \"\\n\")\n",
        "  out_v.write('\\t'.join([str(x) for x in embeddings]) + \"\\n\")\n",
        "out_v.close()\n",
        "out_m.close()"
      ],
      "execution_count": 0,
      "outputs": []
    },
    {
      "metadata": {
        "id": "inSyClo2pn6u",
        "colab_type": "text"
      },
      "cell_type": "markdown",
      "source": [
        "If you are running this tutorial in Colaboratory, you can use the following snippet to download these files to your local machine (or use the file browser, View -> Table of contents -> File browser)."
      ]
    },
    {
      "metadata": {
        "id": "wvE1cA08pk8g",
        "colab_type": "code",
        "colab": {}
      },
      "cell_type": "code",
      "source": [
        "try:\n",
        "  from google.colab import files\n",
        "except ImportError:\n",
        "  pass\n",
        "else:\n",
        "  files.download('vecs.tsv')\n",
        "  files.download('meta.tsv')"
      ],
      "execution_count": 0,
      "outputs": []
    },
    {
      "metadata": {
        "id": "FD4KbDgFqvyF",
        "colab_type": "text"
      },
      "cell_type": "markdown",
      "source": [
        "## Visualize the Embeddings"
      ]
    },
    {
      "metadata": {
        "id": "bqZHWPG3q5e1",
        "colab_type": "text"
      },
      "cell_type": "markdown",
      "source": [
        "To visualize our embeddings we will upload them to the embedding projector.\n",
        "\n",
        "Open the Embedding Projector.\n",
        "\n",
        "* Click on \"Load data\".\n",
        "\n",
        "* Upload the two files we created above: vecs.tsv and meta.tsv. T\n",
        "\n",
        "The embeddings you have trained will now be displayed. You can search for words to find their closest neighbors. For example, try searching for \"beautiful\". You may see neighbors like \"wonderful\". \n",
        "\n",
        "Note: your results may be a bit different, depending on how weights were randomly initialized before training the embedding layer."
      ]
    },
    {
      "metadata": {
        "id": "Km2wFYeRsI6W",
        "colab_type": "text"
      },
      "cell_type": "markdown",
      "source": [
        "## Next Step"
      ]
    },
    {
      "metadata": {
        "id": "XEcramfIsLtd",
        "colab_type": "text"
      },
      "cell_type": "markdown",
      "source": [
        "This tutorial has shown you how to train and visualize word embeddings from scratch on a small dataset.\n",
        "\n",
        "* To learn more about embeddings in Keras we recommend these notebooks by François Chollet.\n",
        "\n",
        "* To learn more about text classification (including the overall workflow, and if you're curious about when to use embeddings vs one-hot encodings) we recommend this practical text classification guide."
      ]
    },
    {
      "metadata": {
        "id": "RjTWn_3gqzRX",
        "colab_type": "code",
        "colab": {}
      },
      "cell_type": "code",
      "source": [
        ""
      ],
      "execution_count": 0,
      "outputs": []
    }
  ]
}
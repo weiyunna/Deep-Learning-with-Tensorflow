{
  "nbformat": 4,
  "nbformat_minor": 0,
  "metadata": {
    "colab": {
      "name": "First-Steps-With-Tensorflow",
      "version": "0.3.2",
      "provenance": [],
      "include_colab_link": true
    },
    "kernelspec": {
      "name": "python3",
      "display_name": "Python 3"
    }
  },
  "cells": [
    {
      "cell_type": "markdown",
      "metadata": {
        "id": "view-in-github",
        "colab_type": "text"
      },
      "source": [
        "<a href=\"https://colab.research.google.com/github/weiyunna/Deep-Learning-with-Tensorflow/blob/master/First_Steps_With_Tensorflow.ipynb\" target=\"_parent\"><img src=\"https://colab.research.google.com/assets/colab-badge.svg\" alt=\"Open In Colab\"/></a>"
      ]
    },
    {
      "metadata": {
        "id": "0fTgeY8zqZit",
        "colab_type": "text"
      },
      "cell_type": "markdown",
      "source": [
        "#First Steps with TensorFlow"
      ]
    },
    {
      "metadata": {
        "id": "GBapHgREqhf-",
        "colab_type": "text"
      },
      "cell_type": "markdown",
      "source": [
        "Learning Objectives:\n",
        "\n",
        "\n",
        "\n",
        "*   Learn fundamental TensorFlow concepts\n",
        "*   Use the LinearRegressor class in TensorFlow to predict median housing price, at the granularity of city blocks, based on one input feature\n",
        "*   Evaluate the accuracy of a model's predictions using Root Mean Squared Error (RMSE)\n",
        "*  Improve the accuracy of a model by tuning its hyperparameters\n",
        "\n",
        "\n",
        "\n",
        "\n"
      ]
    },
    {
      "metadata": {
        "id": "wKyyYFb_qzit",
        "colab_type": "text"
      },
      "cell_type": "markdown",
      "source": [
        "The data is based on 1990 census data from California."
      ]
    },
    {
      "metadata": {
        "id": "RZ3ruApDq3De",
        "colab_type": "text"
      },
      "cell_type": "markdown",
      "source": [
        "## Setup\n",
        "In this first cell, we'll load the necessary libraries."
      ]
    },
    {
      "metadata": {
        "id": "dHsjjYBEqgur",
        "colab_type": "code",
        "colab": {}
      },
      "cell_type": "code",
      "source": [
        "from __future__ import print_function\n",
        "\n",
        "import math\n",
        "\n",
        "from IPython import display\n",
        "from matplotlib import cm\n",
        "from matplotlib import gridspec\n",
        "from matplotlib import pyplot as plt\n",
        "import numpy as np\n",
        "import pandas as pd\n",
        "from sklearn import metrics\n",
        "import tensorflow as tf\n",
        "from tensorflow.python.data import Dataset\n",
        "\n",
        "tf.logging.set_verbosity(tf.logging.ERROR)\n",
        "pd.options.display.max_rows = 10\n",
        "pd.options.display.float_format = '{:.1f}'.format"
      ],
      "execution_count": 0,
      "outputs": []
    },
    {
      "metadata": {
        "id": "bj9ChWuArIQU",
        "colab_type": "text"
      },
      "cell_type": "markdown",
      "source": [
        "Next, we'll load our data set."
      ]
    },
    {
      "metadata": {
        "id": "5Jt5FW3krCTq",
        "colab_type": "code",
        "colab": {}
      },
      "cell_type": "code",
      "source": [
        "california_housing_dataframe = pd.read_csv(\"https://download.mlcc.google.com/mledu-datasets/california_housing_train.csv\", sep=\",\")"
      ],
      "execution_count": 0,
      "outputs": []
    },
    {
      "metadata": {
        "id": "ntj_Ol6LrNw1",
        "colab_type": "text"
      },
      "cell_type": "markdown",
      "source": [
        "We'll randomize the data, just to be sure not to get any pathological ordering effects that might harm the performance of Stochastic Gradient Descent. Additionally, we'll scale median_house_value to be in units of thousands, so it can be learned a little more easily with learning rates in a range that we usually use."
      ]
    },
    {
      "metadata": {
        "id": "uOZPHtd4rLb6",
        "colab_type": "code",
        "colab": {
          "base_uri": "https://localhost:8080/",
          "height": 402
        },
        "outputId": "157c68e6-9bb9-46d5-cee5-d736c54d8fee"
      },
      "cell_type": "code",
      "source": [
        "california_housing_dataframe = california_housing_dataframe.reindex(\n",
        "    np.random.permutation(california_housing_dataframe.index))\n",
        "california_housing_dataframe[\"median_house_value\"] /= 1000.0\n",
        "california_housing_dataframe"
      ],
      "execution_count": 3,
      "outputs": [
        {
          "output_type": "execute_result",
          "data": {
            "text/html": [
              "<div>\n",
              "<style scoped>\n",
              "    .dataframe tbody tr th:only-of-type {\n",
              "        vertical-align: middle;\n",
              "    }\n",
              "\n",
              "    .dataframe tbody tr th {\n",
              "        vertical-align: top;\n",
              "    }\n",
              "\n",
              "    .dataframe thead th {\n",
              "        text-align: right;\n",
              "    }\n",
              "</style>\n",
              "<table border=\"1\" class=\"dataframe\">\n",
              "  <thead>\n",
              "    <tr style=\"text-align: right;\">\n",
              "      <th></th>\n",
              "      <th>longitude</th>\n",
              "      <th>latitude</th>\n",
              "      <th>housing_median_age</th>\n",
              "      <th>total_rooms</th>\n",
              "      <th>total_bedrooms</th>\n",
              "      <th>population</th>\n",
              "      <th>households</th>\n",
              "      <th>median_income</th>\n",
              "      <th>median_house_value</th>\n",
              "    </tr>\n",
              "  </thead>\n",
              "  <tbody>\n",
              "    <tr>\n",
              "      <th>16296</th>\n",
              "      <td>-122.5</td>\n",
              "      <td>37.6</td>\n",
              "      <td>33.0</td>\n",
              "      <td>3507.0</td>\n",
              "      <td>669.0</td>\n",
              "      <td>1697.0</td>\n",
              "      <td>660.0</td>\n",
              "      <td>4.1</td>\n",
              "      <td>270.6</td>\n",
              "    </tr>\n",
              "    <tr>\n",
              "      <th>15375</th>\n",
              "      <td>-122.3</td>\n",
              "      <td>37.6</td>\n",
              "      <td>34.0</td>\n",
              "      <td>1693.0</td>\n",
              "      <td>281.0</td>\n",
              "      <td>846.0</td>\n",
              "      <td>291.0</td>\n",
              "      <td>5.4</td>\n",
              "      <td>339.4</td>\n",
              "    </tr>\n",
              "    <tr>\n",
              "      <th>4609</th>\n",
              "      <td>-118.1</td>\n",
              "      <td>33.9</td>\n",
              "      <td>37.0</td>\n",
              "      <td>1161.0</td>\n",
              "      <td>254.0</td>\n",
              "      <td>882.0</td>\n",
              "      <td>236.0</td>\n",
              "      <td>4.4</td>\n",
              "      <td>158.0</td>\n",
              "    </tr>\n",
              "    <tr>\n",
              "      <th>3621</th>\n",
              "      <td>-117.9</td>\n",
              "      <td>34.1</td>\n",
              "      <td>24.0</td>\n",
              "      <td>2838.0</td>\n",
              "      <td>695.0</td>\n",
              "      <td>2151.0</td>\n",
              "      <td>645.0</td>\n",
              "      <td>3.2</td>\n",
              "      <td>126.2</td>\n",
              "    </tr>\n",
              "    <tr>\n",
              "      <th>5089</th>\n",
              "      <td>-118.1</td>\n",
              "      <td>33.9</td>\n",
              "      <td>36.0</td>\n",
              "      <td>2053.0</td>\n",
              "      <td>386.0</td>\n",
              "      <td>1023.0</td>\n",
              "      <td>394.0</td>\n",
              "      <td>3.0</td>\n",
              "      <td>216.6</td>\n",
              "    </tr>\n",
              "    <tr>\n",
              "      <th>...</th>\n",
              "      <td>...</td>\n",
              "      <td>...</td>\n",
              "      <td>...</td>\n",
              "      <td>...</td>\n",
              "      <td>...</td>\n",
              "      <td>...</td>\n",
              "      <td>...</td>\n",
              "      <td>...</td>\n",
              "      <td>...</td>\n",
              "    </tr>\n",
              "    <tr>\n",
              "      <th>10404</th>\n",
              "      <td>-120.2</td>\n",
              "      <td>39.7</td>\n",
              "      <td>52.0</td>\n",
              "      <td>296.0</td>\n",
              "      <td>63.0</td>\n",
              "      <td>143.0</td>\n",
              "      <td>56.0</td>\n",
              "      <td>3.6</td>\n",
              "      <td>68.6</td>\n",
              "    </tr>\n",
              "    <tr>\n",
              "      <th>11683</th>\n",
              "      <td>-121.3</td>\n",
              "      <td>38.6</td>\n",
              "      <td>25.0</td>\n",
              "      <td>2707.0</td>\n",
              "      <td>464.0</td>\n",
              "      <td>1423.0</td>\n",
              "      <td>490.0</td>\n",
              "      <td>4.3</td>\n",
              "      <td>116.9</td>\n",
              "    </tr>\n",
              "    <tr>\n",
              "      <th>14821</th>\n",
              "      <td>-122.2</td>\n",
              "      <td>37.8</td>\n",
              "      <td>52.0</td>\n",
              "      <td>1056.0</td>\n",
              "      <td>224.0</td>\n",
              "      <td>792.0</td>\n",
              "      <td>245.0</td>\n",
              "      <td>2.7</td>\n",
              "      <td>142.6</td>\n",
              "    </tr>\n",
              "    <tr>\n",
              "      <th>10904</th>\n",
              "      <td>-120.8</td>\n",
              "      <td>35.3</td>\n",
              "      <td>23.0</td>\n",
              "      <td>3100.0</td>\n",
              "      <td>603.0</td>\n",
              "      <td>1515.0</td>\n",
              "      <td>609.0</td>\n",
              "      <td>2.8</td>\n",
              "      <td>196.1</td>\n",
              "    </tr>\n",
              "    <tr>\n",
              "      <th>2734</th>\n",
              "      <td>-117.7</td>\n",
              "      <td>33.5</td>\n",
              "      <td>9.0</td>\n",
              "      <td>3856.0</td>\n",
              "      <td>571.0</td>\n",
              "      <td>1646.0</td>\n",
              "      <td>576.0</td>\n",
              "      <td>6.8</td>\n",
              "      <td>318.3</td>\n",
              "    </tr>\n",
              "  </tbody>\n",
              "</table>\n",
              "<p>17000 rows × 9 columns</p>\n",
              "</div>"
            ],
            "text/plain": [
              "       longitude  latitude  housing_median_age  total_rooms  total_bedrooms  \\\n",
              "16296     -122.5      37.6                33.0       3507.0           669.0   \n",
              "15375     -122.3      37.6                34.0       1693.0           281.0   \n",
              "4609      -118.1      33.9                37.0       1161.0           254.0   \n",
              "3621      -117.9      34.1                24.0       2838.0           695.0   \n",
              "5089      -118.1      33.9                36.0       2053.0           386.0   \n",
              "...          ...       ...                 ...          ...             ...   \n",
              "10404     -120.2      39.7                52.0        296.0            63.0   \n",
              "11683     -121.3      38.6                25.0       2707.0           464.0   \n",
              "14821     -122.2      37.8                52.0       1056.0           224.0   \n",
              "10904     -120.8      35.3                23.0       3100.0           603.0   \n",
              "2734      -117.7      33.5                 9.0       3856.0           571.0   \n",
              "\n",
              "       population  households  median_income  median_house_value  \n",
              "16296      1697.0       660.0            4.1               270.6  \n",
              "15375       846.0       291.0            5.4               339.4  \n",
              "4609        882.0       236.0            4.4               158.0  \n",
              "3621       2151.0       645.0            3.2               126.2  \n",
              "5089       1023.0       394.0            3.0               216.6  \n",
              "...           ...         ...            ...                 ...  \n",
              "10404       143.0        56.0            3.6                68.6  \n",
              "11683      1423.0       490.0            4.3               116.9  \n",
              "14821       792.0       245.0            2.7               142.6  \n",
              "10904      1515.0       609.0            2.8               196.1  \n",
              "2734       1646.0       576.0            6.8               318.3  \n",
              "\n",
              "[17000 rows x 9 columns]"
            ]
          },
          "metadata": {
            "tags": []
          },
          "execution_count": 3
        }
      ]
    },
    {
      "metadata": {
        "id": "9NACAVjYrRss",
        "colab_type": "code",
        "colab": {}
      },
      "cell_type": "code",
      "source": [
        ""
      ],
      "execution_count": 0,
      "outputs": []
    }
  ]
}
{
  "nbformat": 4,
  "nbformat_minor": 0,
  "metadata": {
    "colab": {
      "name": "Week1",
      "version": "0.3.2",
      "provenance": [],
      "toc_visible": true,
      "include_colab_link": true
    },
    "kernelspec": {
      "name": "python3",
      "display_name": "Python 3"
    }
  },
  "cells": [
    {
      "cell_type": "markdown",
      "metadata": {
        "id": "view-in-github",
        "colab_type": "text"
      },
      "source": [
        "<a href=\"https://colab.research.google.com/github/weiyunna/Deep-Learning-with-Tensorflow/blob/master/Week1.ipynb\" target=\"_parent\"><img src=\"https://colab.research.google.com/assets/colab-badge.svg\" alt=\"Open In Colab\"/></a>"
      ]
    },
    {
      "metadata": {
        "id": "yrWQjsJBMTyC",
        "colab_type": "text"
      },
      "cell_type": "markdown",
      "source": [
        "# The Hello World of Deep Learning with Neural Network"
      ]
    },
    {
      "metadata": {
        "id": "x2TtYj2PNF3y",
        "colab_type": "text"
      },
      "cell_type": "markdown",
      "source": [
        "Like every first app you should start with something super simple that shows the overall scaffolding for how your code works.\n",
        "\n",
        "In the case of creating neural networks, the sample I like to use is one where it learns the relationship between two numbers. So, for example, if you were writing code for a function like this, you already know the 'rules' --\n",
        "\n",
        "float hw_function(float x){\n",
        "    float y = (2 * x) - 1;\n",
        "    return y;\n",
        "}\n",
        "So how would you train a neural network to do the equivalent task? Using data! By feeding it with a set of Xs, and a set of Ys, it should be able to figure out the relationship between them.\n",
        "\n",
        "This is obviously a very different paradigm than what you might be used to, so let's step through it piece by piece."
      ]
    },
    {
      "metadata": {
        "id": "wN_CNwlzNOWy",
        "colab_type": "text"
      },
      "cell_type": "markdown",
      "source": [
        "## Imports "
      ]
    },
    {
      "metadata": {
        "id": "F9_3vD7MNVDq",
        "colab_type": "text"
      },
      "cell_type": "markdown",
      "source": [
        "Let's start with our imports. Here we are importing TensorFlow and calling it tf for ease of use.\n",
        "\n",
        "We then import a library called numpy, which helps us to represent our data as lists easily and quickly.\n",
        "\n",
        "The framework for defining a neural network as a set of Sequential layers is called keras, so we import that too."
      ]
    },
    {
      "metadata": {
        "id": "_2vPCdb1MwRK",
        "colab_type": "code",
        "colab": {}
      },
      "cell_type": "code",
      "source": [
        "import tensorflow as tf\n",
        "import numpy as np\n",
        "from tensorflow import keras"
      ],
      "execution_count": 0,
      "outputs": []
    },
    {
      "metadata": {
        "id": "AaHxIF-KO3dR",
        "colab_type": "code",
        "colab": {}
      },
      "cell_type": "code",
      "source": [
        ""
      ],
      "execution_count": 0,
      "outputs": []
    }
  ]
}
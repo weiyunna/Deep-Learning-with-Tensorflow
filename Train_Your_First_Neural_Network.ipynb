{
  "nbformat": 4,
  "nbformat_minor": 0,
  "metadata": {
    "colab": {
      "name": "Train Your First Neural Network",
      "version": "0.3.2",
      "provenance": [],
      "collapsed_sections": [],
      "include_colab_link": true
    },
    "kernelspec": {
      "name": "python3",
      "display_name": "Python 3"
    }
  },
  "cells": [
    {
      "cell_type": "markdown",
      "metadata": {
        "id": "view-in-github",
        "colab_type": "text"
      },
      "source": [
        "<a href=\"https://colab.research.google.com/github/weiyunna/Deep-Learning-with-Tensorflow/blob/master/Train_Your_First_Neural_Network.ipynb\" target=\"_parent\"><img src=\"https://colab.research.google.com/assets/colab-badge.svg\" alt=\"Open In Colab\"/></a>"
      ]
    },
    {
      "metadata": {
        "id": "RLSOVaVA8K-Z",
        "colab_type": "text"
      },
      "cell_type": "markdown",
      "source": [
        "#Train Your First Neural Network"
      ]
    },
    {
      "metadata": {
        "id": "3M1iQ35S7fI6",
        "colab_type": "text"
      },
      "cell_type": "markdown",
      "source": [
        "`__future__` is a pseudo-module which programmers can use to enable new language features which are not compatible with the current interpreter\n",
        "\n",
        "It can be used to use features which will appear in newer versions while having an older release of Python. "
      ]
    },
    {
      "metadata": {
        "id": "vccyLAiN7lUg",
        "colab_type": "code",
        "outputId": "b9a2af80-5158-4d6b-bd2b-dd902e557b44",
        "colab": {
          "base_uri": "https://localhost:8080/",
          "height": 34
        }
      },
      "cell_type": "code",
      "source": [
        "from __future__ import absolute_import, division, print_function\n",
        "\n",
        "# TensorFlow and tf.keras\n",
        "import tensorflow as tf\n",
        "from tensorflow import keras\n",
        "\n",
        "# Helper libraries\n",
        "import numpy as np\n",
        "import matplotlib.pyplot as plt\n",
        "\n",
        "print(tf.__version__)"
      ],
      "execution_count": 0,
      "outputs": [
        {
          "output_type": "stream",
          "text": [
            "1.13.1\n"
          ],
          "name": "stdout"
        }
      ]
    },
    {
      "metadata": {
        "id": "fdA1lihV8DBq",
        "colab_type": "text"
      },
      "cell_type": "markdown",
      "source": [
        "## Import the Fashion MNIST dataset\n",
        "This guide uses the `Fashion MNIST` dataset which contains 70,000 grayscale images in 10 categories. The images show individual articles of clothing at low resolution (28 by 28 pixels), as seen here:"
      ]
    },
    {
      "metadata": {
        "id": "49M-8n1N8esx",
        "colab_type": "text"
      },
      "cell_type": "markdown",
      "source": [
        "Fashion MNIST is intended as a drop-in replacement for the classic MNIST dataset—often used as the \"Hello, World\" of machine learning programs for computer vision. The MNIST dataset contains images of handwritten digits (0, 1, 2, etc) in an identical format to the articles of clothing we'll use here.\n",
        "\n",
        "This guide uses Fashion MNIST for variety, and because it's a slightly more challenging problem than regular MNIST. Both datasets are relatively small and are used to verify that an algorithm works as expected. They're good starting points to test and debug code.\n",
        "\n",
        "We will use 60,000 images to train the network and 10,000 images to evaluate how accurately the network learned to classify images. You can access the Fashion MNIST directly from TensorFlow, just import and load the data:"
      ]
    },
    {
      "metadata": {
        "id": "XVd3eY1875eA",
        "colab_type": "code",
        "outputId": "08d6a5fd-c67f-4e98-8da9-6422829c3792",
        "colab": {
          "base_uri": "https://localhost:8080/",
          "height": 155
        }
      },
      "cell_type": "code",
      "source": [
        "fashion_mnist = keras.datasets.fashion_mnist\n",
        "\n",
        "(train_images, train_labels), (test_images, test_labels) = fashion_mnist.load_data()"
      ],
      "execution_count": 0,
      "outputs": [
        {
          "output_type": "stream",
          "text": [
            "Downloading data from https://storage.googleapis.com/tensorflow/tf-keras-datasets/train-labels-idx1-ubyte.gz\n",
            "32768/29515 [=================================] - 0s 0us/step\n",
            "Downloading data from https://storage.googleapis.com/tensorflow/tf-keras-datasets/train-images-idx3-ubyte.gz\n",
            "26427392/26421880 [==============================] - 0s 0us/step\n",
            "Downloading data from https://storage.googleapis.com/tensorflow/tf-keras-datasets/t10k-labels-idx1-ubyte.gz\n",
            "8192/5148 [===============================================] - 0s 0us/step\n",
            "Downloading data from https://storage.googleapis.com/tensorflow/tf-keras-datasets/t10k-images-idx3-ubyte.gz\n",
            "4423680/4422102 [==============================] - 0s 0us/step\n"
          ],
          "name": "stdout"
        }
      ]
    },
    {
      "metadata": {
        "id": "Kr6lrc6585fi",
        "colab_type": "text"
      },
      "cell_type": "markdown",
      "source": [
        "Loading the dataset returns four `NumPy` arrays:\n",
        "\n",
        "* The `train_images` and `train_labels `arrays are the training set—the data the model uses to learn.\n",
        "* The model is tested against the test set, the `test_images`, and `test_labels `arrays.\n",
        "\n",
        "The images are 28x28 NumPy arrays, with pixel values ranging between 0 and 255. The labels are an array of integers, ranging from 0 to 9. These correspond to the class of clothing the image represents:"
      ]
    },
    {
      "metadata": {
        "id": "E5pW1Wcu8uAO",
        "colab_type": "code",
        "outputId": "b019406c-9cc2-41ba-a6b1-05cda720667a",
        "colab": {
          "base_uri": "https://localhost:8080/",
          "height": 52
        }
      },
      "cell_type": "code",
      "source": [
        "test_labels\n",
        "print(train_labels.shape)\n",
        "print(test_labels.shape)"
      ],
      "execution_count": 0,
      "outputs": [
        {
          "output_type": "stream",
          "text": [
            "(60000,)\n",
            "(10000,)\n"
          ],
          "name": "stdout"
        }
      ]
    },
    {
      "metadata": {
        "id": "qY1fJ12c9bMu",
        "colab_type": "code",
        "outputId": "35e0faab-dc91-4476-baf3-6e3f581faf73",
        "colab": {
          "base_uri": "https://localhost:8080/",
          "height": 52
        }
      },
      "cell_type": "code",
      "source": [
        "test_images\n",
        "print(train_images.shape)\n",
        "print(test_images.shape)"
      ],
      "execution_count": 0,
      "outputs": [
        {
          "output_type": "stream",
          "text": [
            "(60000, 28, 28)\n",
            "(10000, 28, 28)\n"
          ],
          "name": "stdout"
        }
      ]
    },
    {
      "metadata": {
        "id": "0t0pp1yG-xPG",
        "colab_type": "text"
      },
      "cell_type": "markdown",
      "source": [
        "Each image is mapped to a single label. Since the class names are not included with the dataset, store them here to use later when plotting the images:"
      ]
    },
    {
      "metadata": {
        "id": "ajZzno2t9fCF",
        "colab_type": "code",
        "colab": {}
      },
      "cell_type": "code",
      "source": [
        "class_names = ['T-shirt/top', 'Trouser', 'Pullover', 'Dress', 'Coat', \n",
        "               'Sandal', 'Shirt', 'Sneaker', 'Bag', 'Ankle boot']"
      ],
      "execution_count": 0,
      "outputs": []
    },
    {
      "metadata": {
        "id": "FNTJI9ys_B8U",
        "colab_type": "text"
      },
      "cell_type": "markdown",
      "source": [
        "## Explore the data\n",
        "Let's explore the format of the dataset before training the model. The following shows there are 60,000 images in the training set, with each image represented as 28 x 28 pixels:"
      ]
    },
    {
      "metadata": {
        "id": "ScwBem5H-5fF",
        "colab_type": "code",
        "outputId": "8cea8d3a-0cd9-4be4-f600-3c14b75aa326",
        "colab": {
          "base_uri": "https://localhost:8080/",
          "height": 34
        }
      },
      "cell_type": "code",
      "source": [
        "train_images.shape"
      ],
      "execution_count": 0,
      "outputs": [
        {
          "output_type": "execute_result",
          "data": {
            "text/plain": [
              "(60000, 28, 28)"
            ]
          },
          "metadata": {
            "tags": []
          },
          "execution_count": 11
        }
      ]
    },
    {
      "metadata": {
        "id": "X4biHUas_QEo",
        "colab_type": "code",
        "outputId": "2d2735e6-e6e8-490e-d521-093e2bbd5ac5",
        "colab": {
          "base_uri": "https://localhost:8080/",
          "height": 34
        }
      },
      "cell_type": "code",
      "source": [
        "len(train_labels)"
      ],
      "execution_count": 0,
      "outputs": [
        {
          "output_type": "execute_result",
          "data": {
            "text/plain": [
              "60000"
            ]
          },
          "metadata": {
            "tags": []
          },
          "execution_count": 12
        }
      ]
    },
    {
      "metadata": {
        "id": "kz0PjX9r_Ttf",
        "colab_type": "code",
        "outputId": "0e7c706c-2d56-42df-f5ef-02b13e0ba9ca",
        "colab": {
          "base_uri": "https://localhost:8080/",
          "height": 34
        }
      },
      "cell_type": "code",
      "source": [
        "train_labels"
      ],
      "execution_count": 0,
      "outputs": [
        {
          "output_type": "execute_result",
          "data": {
            "text/plain": [
              "array([9, 0, 0, ..., 3, 0, 5], dtype=uint8)"
            ]
          },
          "metadata": {
            "tags": []
          },
          "execution_count": 13
        }
      ]
    },
    {
      "metadata": {
        "id": "EWgUi2Qc_WlI",
        "colab_type": "code",
        "outputId": "c1d72f4e-9f9d-4da0-d36d-a46743ae2b08",
        "colab": {
          "base_uri": "https://localhost:8080/",
          "height": 34
        }
      },
      "cell_type": "code",
      "source": [
        "test_images.shape"
      ],
      "execution_count": 0,
      "outputs": [
        {
          "output_type": "execute_result",
          "data": {
            "text/plain": [
              "(10000, 28, 28)"
            ]
          },
          "metadata": {
            "tags": []
          },
          "execution_count": 14
        }
      ]
    },
    {
      "metadata": {
        "id": "LUxLubHg_Y64",
        "colab_type": "code",
        "outputId": "6abe3c45-2b4d-493e-b1ee-ce6a900a5ae9",
        "colab": {
          "base_uri": "https://localhost:8080/",
          "height": 34
        }
      },
      "cell_type": "code",
      "source": [
        "len(test_labels)"
      ],
      "execution_count": 0,
      "outputs": [
        {
          "output_type": "execute_result",
          "data": {
            "text/plain": [
              "10000"
            ]
          },
          "metadata": {
            "tags": []
          },
          "execution_count": 15
        }
      ]
    },
    {
      "metadata": {
        "id": "A0WHjiPx_fbK",
        "colab_type": "text"
      },
      "cell_type": "markdown",
      "source": [
        "### Preprocess the data\n",
        "\n",
        "The data must be preprocessed before training the network. If you inspect the first image in the training set, you will see that the pixel values fall in the range of 0 to 255:"
      ]
    },
    {
      "metadata": {
        "id": "ENY0Vvlg_bBC",
        "colab_type": "code",
        "outputId": "9893e451-5cac-419c-8f72-ec4e1c7862a5",
        "colab": {
          "base_uri": "https://localhost:8080/",
          "height": 347
        }
      },
      "cell_type": "code",
      "source": [
        "plt.figure()\n",
        "plt.imshow(train_images[0])\n",
        "plt.colorbar()\n",
        "plt.grid(False)\n",
        "plt.show()"
      ],
      "execution_count": 0,
      "outputs": [
        {
          "output_type": "display_data",
          "data": {
            "image/png": "[encoded data removed]",
            "text/plain": [
              "<Figure size 576x396 with 2 Axes>"
            ]
          },
          "metadata": {
            "tags": []
          }
        }
      ]
    },
    {
      "metadata": {
        "id": "P0FCT8p1DhRd",
        "colab_type": "text"
      },
      "cell_type": "markdown",
      "source": [
        "We scale these values to a range of 0 to 1 before feeding to the neural network model. For this, we divide the values by 255. \n",
        "\n",
        "It's important that the training set and the testing set are preprocessed in the same way:"
      ]
    },
    {
      "metadata": {
        "id": "9paaybocDfa7",
        "colab_type": "code",
        "colab": {}
      },
      "cell_type": "code",
      "source": [
        "train_images = train_images / 255.0\n",
        "\n",
        "test_images = test_images / 255.0"
      ],
      "execution_count": 0,
      "outputs": []
    },
    {
      "metadata": {
        "id": "sp83Hzr9LSTk",
        "colab_type": "text"
      },
      "cell_type": "markdown",
      "source": [
        "Display the first 25 images from the training set and display the class name below each image. Verify that the data is in the correct format and we're ready to build and train the network."
      ]
    },
    {
      "metadata": {
        "id": "PxNpeKHtLQ88",
        "colab_type": "code",
        "outputId": "a95f15db-4462-44a1-d125-38776361ad9c",
        "colab": {
          "base_uri": "https://localhost:8080/",
          "height": 589
        }
      },
      "cell_type": "code",
      "source": [
        "plt.figure(figsize=(10,10))\n",
        "for i in range(25):\n",
        "    plt.subplot(5,5,i+1)\n",
        "    plt.xticks([])\n",
        "    plt.yticks([])\n",
        "    plt.grid(False)\n",
        "    plt.imshow(train_images[i], cmap=plt.cm.binary)\n",
        "    plt.xlabel(class_names[train_labels[i]])\n",
        "plt.show()"
      ],
      "execution_count": 0,
      "outputs": [
        {
          "output_type": "display_data",
          "data": {
            "image/png": "[encoded data removed]",
            "text/plain": [
              "<Figure size 720x720 with 25 Axes>"
            ]
          },
          "metadata": {
            "tags": []
          }
        }
      ]
    },
    {
      "metadata": {
        "id": "z9hugFEBL-Pt",
        "colab_type": "text"
      },
      "cell_type": "markdown",
      "source": [
        "## Build the model\n",
        "Building the neural network requires configuring the layers of the model, then compiling the model."
      ]
    },
    {
      "metadata": {
        "id": "byPn32NoLu79",
        "colab_type": "text"
      },
      "cell_type": "markdown",
      "source": [
        "### Setup the layers\n",
        "\n",
        "The basic building block of a neural network is the layer. Layers extract representations from the data fed into them. And, hopefully, these representations are more meaningful for the problem at hand.\n",
        "\n",
        "Most of deep learning consists of chaining together simple layers. Most layers, like `tf.keras.layers.Dense`, have parameters that are learned during training."
      ]
    },
    {
      "metadata": {
        "id": "1qF7t2gFLa8C",
        "colab_type": "code",
        "outputId": "1ccd68f9-8f67-400c-af77-b24da3efeac5",
        "colab": {
          "base_uri": "https://localhost:8080/",
          "height": 89
        }
      },
      "cell_type": "code",
      "source": [
        "model = keras.Sequential([\n",
        "    keras.layers.Flatten(input_shape=(28, 28)),\n",
        "    keras.layers.Dense(128, activation=tf.nn.relu),\n",
        "    keras.layers.Dense(10, activation=tf.nn.softmax)\n",
        "])\n",
        "  "
      ],
      "execution_count": 0,
      "outputs": [
        {
          "output_type": "stream",
          "text": [
            "WARNING:tensorflow:From /usr/local/lib/python3.6/dist-packages/tensorflow/python/ops/resource_variable_ops.py:435: colocate_with (from tensorflow.python.framework.ops) is deprecated and will be removed in a future version.\n",
            "Instructions for updating:\n",
            "Colocations handled automatically by placer.\n"
          ],
          "name": "stdout"
        }
      ]
    },
    {
      "metadata": {
        "id": "MIVmU7pbMjot",
        "colab_type": "text"
      },
      "cell_type": "markdown",
      "source": [
        "The first layer in this network, `tf.keras.layers.Flatten,` transforms the format of the images from a 2d-array (of 28 by 28 pixels), to a 1d-array of 28 * 28 = 784 pixels. Think of this layer as unstacking rows of pixels in the image and lining them up. This layer has no parameters to learn; it only reformats the data.\n",
        "\n",
        "After the pixels are flattened, the network consists of a sequence of two `tf.keras.layers.Dense l`ayers. These are **densely-connected**, or **fully-connected**, neural layers. The first Dense layer has 128 nodes (or neurons). The second (and last) layer is a 10-node softmax layer—this returns an array of 10 probability scores that sum to 1. Each node contains a score that indicates the probability that the current image belongs to one of the 10 classes."
      ]
    },
    {
      "metadata": {
        "id": "YHlrhucokNEw",
        "colab_type": "text"
      },
      "cell_type": "markdown",
      "source": [
        "## Compile the Model"
      ]
    },
    {
      "metadata": {
        "id": "Znrg6DzvkfaG",
        "colab_type": "text"
      },
      "cell_type": "markdown",
      "source": [
        "Before the model is ready for training, it needs a few more settings. These are added during the model's compile step:\n",
        "\n",
        "* `Loss function` —This measures how accurate the model is during training. We want to minimize this function to \"steer\" the model in the right direction.\n",
        "* `Optimizer` —This is how the model is updated based on the data it sees and its loss function.\n",
        "* `Metrics` —Used to monitor the training and testing steps. The following example uses accuracy, the fraction of the images that are correctly classified."
      ]
    },
    {
      "metadata": {
        "id": "HhvakYxGMSVu",
        "colab_type": "code",
        "colab": {}
      },
      "cell_type": "code",
      "source": [
        "model.compile(optimizer='adam', \n",
        "              loss='sparse_categorical_crossentropy',\n",
        "              metrics=['accuracy'])"
      ],
      "execution_count": 0,
      "outputs": []
    },
    {
      "metadata": {
        "id": "Li1FmmR0k59V",
        "colab_type": "text"
      },
      "cell_type": "markdown",
      "source": [
        "## Train the model"
      ]
    },
    {
      "metadata": {
        "id": "DUcmKJ7TlBov",
        "colab_type": "text"
      },
      "cell_type": "markdown",
      "source": [
        "Training the neural network model requires the following steps:\n",
        "\n",
        "* Feed the training data to the model—in this example, the `train_images` and `train_labels` arrays.\n",
        "* The model learns to associate images and labels.\n",
        "* We ask the model to make predictions about a test set—in this example, the `test_images` array. We verify that the predictions match the labels from the `test_labels` array.\n",
        "\n",
        "To start training, call the model.fit method—the model is \"fit\" to the training data:"
      ]
    },
    {
      "metadata": {
        "id": "SLxHvg-tkxVc",
        "colab_type": "code",
        "outputId": "f4efe3f3-0c5d-4b14-8edd-f723794b148d",
        "colab": {
          "base_uri": "https://localhost:8080/",
          "height": 207
        }
      },
      "cell_type": "code",
      "source": [
        "model.fit(train_images, train_labels, epochs=5)"
      ],
      "execution_count": 0,
      "outputs": [
        {
          "output_type": "stream",
          "text": [
            "Epoch 1/5\n",
            "60000/60000 [==============================] - 8s 138us/sample - loss: 0.5032 - acc: 0.8238\n",
            "Epoch 2/5\n",
            "60000/60000 [==============================] - 8s 141us/sample - loss: 0.3782 - acc: 0.8633\n",
            "Epoch 3/5\n",
            "60000/60000 [==============================] - 9s 145us/sample - loss: 0.3391 - acc: 0.8759\n",
            "Epoch 4/5\n",
            "60000/60000 [==============================] - 8s 136us/sample - loss: 0.3149 - acc: 0.8836\n",
            "Epoch 5/5\n",
            "60000/60000 [==============================] - 8s 129us/sample - loss: 0.2950 - acc: 0.8908\n"
          ],
          "name": "stdout"
        },
        {
          "output_type": "execute_result",
          "data": {
            "text/plain": [
              "<tensorflow.python.keras.callbacks.History at 0x7fbd94740400>"
            ]
          },
          "metadata": {
            "tags": []
          },
          "execution_count": 21
        }
      ]
    },
    {
      "metadata": {
        "id": "fQO-ge5zlioF",
        "colab_type": "text"
      },
      "cell_type": "markdown",
      "source": [
        "As the model trains, the loss and accuracy metrics are displayed. This model reaches an accuracy of about 0.88 (or 88%) on the training data."
      ]
    },
    {
      "metadata": {
        "id": "darQ5070lpkl",
        "colab_type": "text"
      },
      "cell_type": "markdown",
      "source": [
        "## Evaluate accuracy"
      ]
    },
    {
      "metadata": {
        "id": "DVNdEvOKltc4",
        "colab_type": "text"
      },
      "cell_type": "markdown",
      "source": [
        "Next, compare how the model performs on the test dataset:"
      ]
    },
    {
      "metadata": {
        "id": "qWpOGye9lUaD",
        "colab_type": "code",
        "outputId": "1a4afd05-8a35-4a0d-a8f4-729cd260e5e6",
        "colab": {
          "base_uri": "https://localhost:8080/",
          "height": 52
        }
      },
      "cell_type": "code",
      "source": [
        "test_loss, test_acc = model.evaluate(test_images, test_labels)\n",
        "\n",
        "print('Test accuracy:', test_acc)"
      ],
      "execution_count": 0,
      "outputs": [
        {
          "output_type": "stream",
          "text": [
            "10000/10000 [==============================] - 1s 52us/sample - loss: 0.3730 - acc: 0.8595\n",
            "Test accuracy: 0.8595\n"
          ],
          "name": "stdout"
        }
      ]
    },
    {
      "metadata": {
        "id": "crowmkxUl_WF",
        "colab_type": "text"
      },
      "cell_type": "markdown",
      "source": [
        "It turns out, the accuracy on the test dataset is a little less than the accuracy on the training dataset. This gap between training accuracy and test accuracy is an example of `overfitting`. Overfitting is when a machine learning model performs worse on new data than on their training data."
      ]
    },
    {
      "metadata": {
        "id": "euFXMjWCmGzW",
        "colab_type": "text"
      },
      "cell_type": "markdown",
      "source": [
        "## Make Predictions"
      ]
    },
    {
      "metadata": {
        "id": "lvCuNLr2mNa2",
        "colab_type": "text"
      },
      "cell_type": "markdown",
      "source": [
        "With the model trained, we can use it to make predictions about some images."
      ]
    },
    {
      "metadata": {
        "id": "hoZF1IzKl02c",
        "colab_type": "code",
        "colab": {}
      },
      "cell_type": "code",
      "source": [
        "predictions = model.predict(test_images)"
      ],
      "execution_count": 0,
      "outputs": []
    },
    {
      "metadata": {
        "id": "xw5xbZkEma-W",
        "colab_type": "text"
      },
      "cell_type": "markdown",
      "source": [
        "Here, the model has predicted the label for each image in the testing set. Let's take a look at the first prediction:"
      ]
    },
    {
      "metadata": {
        "id": "C4QSPe85mS-T",
        "colab_type": "code",
        "outputId": "9919fe79-2154-4ad2-c80f-0efff95bdeb6",
        "colab": {
          "base_uri": "https://localhost:8080/",
          "height": 69
        }
      },
      "cell_type": "code",
      "source": [
        "predictions[0]"
      ],
      "execution_count": 0,
      "outputs": [
        {
          "output_type": "execute_result",
          "data": {
            "text/plain": [
              "array([7.4674936e-05, 1.0404145e-06, 7.0406736e-06, 2.8475975e-07,\n",
              "       1.8013616e-06, 1.9947672e-03, 1.3088854e-05, 1.8304896e-02,\n",
              "       1.2643439e-04, 9.7947592e-01], dtype=float32)"
            ]
          },
          "metadata": {
            "tags": []
          },
          "execution_count": 24
        }
      ]
    },
    {
      "metadata": {
        "id": "L89E0jL3mopO",
        "colab_type": "text"
      },
      "cell_type": "markdown",
      "source": [
        "A prediction is an array of 10 numbers. These describe the \"confidence\" of the model that the image corresponds to each of the 10 different articles of clothing. We can see which label has the highest confidence value:"
      ]
    },
    {
      "metadata": {
        "id": "45ObDYITmfQV",
        "colab_type": "code",
        "outputId": "50d07855-e5aa-4014-a2b3-accdc8231e54",
        "colab": {
          "base_uri": "https://localhost:8080/",
          "height": 34
        }
      },
      "cell_type": "code",
      "source": [
        "np.argmax(predictions[0])"
      ],
      "execution_count": 0,
      "outputs": [
        {
          "output_type": "execute_result",
          "data": {
            "text/plain": [
              "9"
            ]
          },
          "metadata": {
            "tags": []
          },
          "execution_count": 25
        }
      ]
    },
    {
      "metadata": {
        "id": "s71yOCcQmxbY",
        "colab_type": "text"
      },
      "cell_type": "markdown",
      "source": [
        "So the model is most confident that this image is an ankle boot, or ` class_names[9]`. And we can check the test label to see this is correct:"
      ]
    },
    {
      "metadata": {
        "id": "i4GI_bS8mvzY",
        "colab_type": "code",
        "outputId": "29d904b4-c5d1-4d4a-f7a9-8e29eb0f378b",
        "colab": {
          "base_uri": "https://localhost:8080/",
          "height": 34
        }
      },
      "cell_type": "code",
      "source": [
        "test_labels[0]"
      ],
      "execution_count": 0,
      "outputs": [
        {
          "output_type": "execute_result",
          "data": {
            "text/plain": [
              "9"
            ]
          },
          "metadata": {
            "tags": []
          },
          "execution_count": 26
        }
      ]
    },
    {
      "metadata": {
        "id": "3xe6Q6tKnBHd",
        "colab_type": "text"
      },
      "cell_type": "markdown",
      "source": [
        "We can graph this to look at the full set of 10 channels"
      ]
    },
    {
      "metadata": {
        "id": "me-ZANxQ1xqO",
        "colab_type": "text"
      },
      "cell_type": "markdown",
      "source": [
        "cmap: color map. \n",
        "\n",
        "More info can be found here: https://matplotlib.org/users/colormaps.html"
      ]
    },
    {
      "metadata": {
        "id": "D_JJJFyam5CG",
        "colab_type": "code",
        "colab": {}
      },
      "cell_type": "code",
      "source": [
        "def plot_image(i, predictions_array, true_label, img):\n",
        "  predictions_array, true_label, img = predictions_array[i], true_label[i], img[i]\n",
        "  plt.grid(False)\n",
        "  plt.xticks([])\n",
        "  plt.yticks([])\n",
        "  \n",
        "  plt.imshow(img, cmap=plt.cm.binary)\n",
        "\n",
        "  predicted_label = np.argmax(predictions_array)\n",
        "  if predicted_label == true_label:\n",
        "    color = 'blue'\n",
        "  else:\n",
        "    color = 'red'\n",
        "  \n",
        "  plt.xlabel(\"{} {:2.0f}% ({})\".format(class_names[predicted_label],\n",
        "                                100*np.max(predictions_array),\n",
        "                                class_names[true_label]),\n",
        "                                color=color)\n",
        "\n",
        "def plot_value_array(i, predictions_array, true_label):\n",
        "  predictions_array, true_label = predictions_array[i], true_label[i]\n",
        "  plt.grid(False)\n",
        "  plt.xticks([])\n",
        "  plt.yticks([])\n",
        "  thisplot = plt.bar(range(10), predictions_array, color=\"#777777\")\n",
        "  plt.ylim([0, 1]) \n",
        "  predicted_label = np.argmax(predictions_array)\n",
        " \n",
        "  thisplot[predicted_label].set_color('red')\n",
        "  thisplot[true_label].set_color('blue')"
      ],
      "execution_count": 0,
      "outputs": []
    },
    {
      "metadata": {
        "id": "h8oUF-NIqYpC",
        "colab_type": "code",
        "outputId": "57f9877f-710e-4170-bd6b-0b2c153f3f49",
        "colab": {
          "base_uri": "https://localhost:8080/",
          "height": 203
        }
      },
      "cell_type": "code",
      "source": [
        "# the 0th image\n",
        "i = 0\n",
        "plt.figure(figsize=(6,3))\n",
        "plt.subplot(1,2,1)\n",
        "plot_image(i, predictions, test_labels, test_images)\n",
        "plt.subplot(1,2,2)\n",
        "plot_value_array(i, predictions,  test_labels)\n",
        "plt.show()"
      ],
      "execution_count": 0,
      "outputs": [
        {
          "output_type": "display_data",
          "data": {
            "image/png": "[encoded data removed]",
            "text/plain": [
              "<Figure size 432x216 with 2 Axes>"
            ]
          },
          "metadata": {
            "tags": []
          }
        }
      ]
    },
    {
      "metadata": {
        "id": "kbvcOCdnqfb3",
        "colab_type": "code",
        "outputId": "ce36495e-12d7-4c04-9980-b59971eed250",
        "colab": {
          "base_uri": "https://localhost:8080/",
          "height": 203
        }
      },
      "cell_type": "code",
      "source": [
        "# the 12th image\n",
        "i = 12\n",
        "plt.figure(figsize=(6,3))\n",
        "plt.subplot(1,2,1)\n",
        "plot_image(i, predictions, test_labels, test_images)\n",
        "plt.subplot(1,2,2)\n",
        "plot_value_array(i, predictions,  test_labels)\n",
        "plt.show()"
      ],
      "execution_count": 0,
      "outputs": [
        {
          "output_type": "display_data",
          "data": {
            "image/png": "[encoded data removed]",
            "text/plain": [
              "<Figure size 432x216 with 2 Axes>"
            ]
          },
          "metadata": {
            "tags": []
          }
        }
      ]
    },
    {
      "metadata": {
        "id": "vVZ37c1ar_6Q",
        "colab_type": "text"
      },
      "cell_type": "markdown",
      "source": [
        "Let's plot several images with their predictions. Correct prediction labels are blue and incorrect prediction labels are red. The number gives the percent (out of 100) for the predicted label. Note that it can be wrong even when very confident."
      ]
    },
    {
      "metadata": {
        "id": "xvHWOZxDqh7D",
        "colab_type": "code",
        "outputId": "4edf0238-0dad-4df3-ff72-8b8e0e6248f2",
        "colab": {
          "base_uri": "https://localhost:8080/",
          "height": 589
        }
      },
      "cell_type": "code",
      "source": [
        "# Plot the first X test images, their predicted label, and the true label\n",
        "# Color correct predictions in blue, incorrect predictions in red\n",
        "num_rows = 5\n",
        "num_cols = 3\n",
        "num_images = num_rows*num_cols\n",
        "plt.figure(figsize=(2*2*num_cols, 2*num_rows))\n",
        "for i in range(num_images):\n",
        "  plt.subplot(num_rows, 2*num_cols, 2*i+1)\n",
        "  plot_image(i, predictions, test_labels, test_images)\n",
        "  plt.subplot(num_rows, 2*num_cols, 2*i+2)\n",
        "  plot_value_array(i, predictions, test_labels)\n",
        "plt.show()"
      ],
      "execution_count": 0,
      "outputs": [
        {
          "output_type": "display_data",
          "data": {
            "image/png": "[encoded data removed]",
            "text/plain": [
              "<Figure size 864x720 with 30 Axes>"
            ]
          },
          "metadata": {
            "tags": []
          }
        }
      ]
    },
    {
      "metadata": {
        "id": "JlhT-2L0sK9U",
        "colab_type": "text"
      },
      "cell_type": "markdown",
      "source": [
        "Finally, use the trained model to make a prediction about a single image."
      ]
    },
    {
      "metadata": {
        "id": "ZrYTH7AZsE82",
        "colab_type": "code",
        "outputId": "b64f8b52-145f-4b8c-fc14-a98194752876",
        "colab": {
          "base_uri": "https://localhost:8080/",
          "height": 34
        }
      },
      "cell_type": "code",
      "source": [
        "# Grab an image from the test dataset\n",
        "img = test_images[0]\n",
        "\n",
        "print(img.shape)"
      ],
      "execution_count": 0,
      "outputs": [
        {
          "output_type": "stream",
          "text": [
            "(28, 28)\n"
          ],
          "name": "stdout"
        }
      ]
    },
    {
      "metadata": {
        "id": "Syqs--Yqsd6l",
        "colab_type": "text"
      },
      "cell_type": "markdown",
      "source": [
        "tf.keras models are optimized to make predictions on a batch, or collection, of examples at once. So even though we're using a single image, we need to add it to a list:"
      ]
    },
    {
      "metadata": {
        "id": "J-15rXVDsVl9",
        "colab_type": "code",
        "outputId": "12c3df45-eeca-4a26-d5a5-13c088a90bf3",
        "colab": {
          "base_uri": "https://localhost:8080/",
          "height": 34
        }
      },
      "cell_type": "code",
      "source": [
        "# Add the image to a batch where it's the only member.\n",
        "img = (np.expand_dims(img,0))\n",
        "\n",
        "print(img.shape)"
      ],
      "execution_count": 0,
      "outputs": [
        {
          "output_type": "stream",
          "text": [
            "(1, 28, 28)\n"
          ],
          "name": "stdout"
        }
      ]
    },
    {
      "metadata": {
        "id": "ocDhEPGOsvgb",
        "colab_type": "code",
        "outputId": "7f7e7b14-21be-4e7d-dba8-a0124c650845",
        "colab": {
          "base_uri": "https://localhost:8080/",
          "height": 52
        }
      },
      "cell_type": "code",
      "source": [
        "#Now predict the images\n",
        "\n",
        "predictions_single = model.predict(img)\n",
        "\n",
        "print(predictions_single)"
      ],
      "execution_count": 0,
      "outputs": [
        {
          "output_type": "stream",
          "text": [
            "[[7.4675008e-05 1.0404137e-06 7.0406804e-06 2.8475975e-07 1.8013599e-06\n",
            "  1.9947663e-03 1.3088828e-05 1.8304918e-02 1.2643461e-04 9.7947592e-01]]\n"
          ],
          "name": "stdout"
        }
      ]
    },
    {
      "metadata": {
        "id": "7eoi_BKJs9Ti",
        "colab_type": "code",
        "outputId": "13723d05-7baf-41cd-bcb3-939002488307",
        "colab": {
          "base_uri": "https://localhost:8080/",
          "height": 377
        }
      },
      "cell_type": "code",
      "source": [
        "plot_value_array(0, predictions_single, test_labels)\n",
        "_ = plt.xticks(range(10), class_names, rotation=45)"
      ],
      "execution_count": 0,
      "outputs": [
        {
          "output_type": "display_data",
          "data": {
            "image/png": "[encoded data removed]",
            "text/plain": [
              "<Figure size 576x396 with 1 Axes>"
            ]
          },
          "metadata": {
            "tags": []
          }
        }
      ]
    },
    {
      "metadata": {
        "id": "gB8Vu3LYtOVT",
        "colab_type": "text"
      },
      "cell_type": "markdown",
      "source": [
        "model.predict returns a list of lists, one for each image in the batch of data. Grab the predictions for our (only) image in the batch:"
      ]
    },
    {
      "metadata": {
        "id": "NMOWKTkWtC54",
        "colab_type": "code",
        "outputId": "071586a9-a2d8-474b-ae34-102280811e2e",
        "colab": {
          "base_uri": "https://localhost:8080/",
          "height": 34
        }
      },
      "cell_type": "code",
      "source": [
        "np.argmax(predictions_single[0])"
      ],
      "execution_count": 0,
      "outputs": [
        {
          "output_type": "execute_result",
          "data": {
            "text/plain": [
              "9"
            ]
          },
          "metadata": {
            "tags": []
          },
          "execution_count": 35
        }
      ]
    },
    {
      "metadata": {
        "id": "8WiLh_y5tVgD",
        "colab_type": "text"
      },
      "cell_type": "markdown",
      "source": [
        "And, as before, the model predicts a label of 9."
      ]
    },
    {
      "metadata": {
        "id": "Xzmr_r2dtREj",
        "colab_type": "code",
        "colab": {}
      },
      "cell_type": "code",
      "source": [
        ""
      ],
      "execution_count": 0,
      "outputs": []
    }
  ]
}
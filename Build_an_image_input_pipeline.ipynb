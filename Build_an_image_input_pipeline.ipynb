{
  "nbformat": 4,
  "nbformat_minor": 0,
  "metadata": {
    "colab": {
      "name": "Build an image input pipeline",
      "version": "0.3.2",
      "provenance": [],
      "collapsed_sections": [],
      "include_colab_link": true
    },
    "kernelspec": {
      "name": "python3",
      "display_name": "Python 3"
    }
  },
  "cells": [
    {
      "cell_type": "markdown",
      "metadata": {
        "id": "view-in-github",
        "colab_type": "text"
      },
      "source": [
        "<a href=\"https://colab.research.google.com/github/weiyunna/Deep-Learning-with-Tensorflow/blob/master/Build_an_image_input_pipeline.ipynb\" target=\"_parent\"><img src=\"https://colab.research.google.com/assets/colab-badge.svg\" alt=\"Open In Colab\"/></a>"
      ]
    },
    {
      "metadata": {
        "id": "3tXHxMk7y-zC",
        "colab_type": "text"
      },
      "cell_type": "markdown",
      "source": [
        "# Load images with `tf.data`"
      ]
    },
    {
      "metadata": {
        "id": "TFqqzgWyzRAC",
        "colab_type": "text"
      },
      "cell_type": "markdown",
      "source": [
        "* This tutorial provides a simple example of how to load an image dataset using tf.data.\n",
        "\n",
        "* The dataset used in this example is distributed as directories of images, with one class of image per directory."
      ]
    },
    {
      "metadata": {
        "id": "QEJqrePBzf35",
        "colab_type": "text"
      },
      "cell_type": "markdown",
      "source": [
        "## Set up"
      ]
    },
    {
      "metadata": {
        "id": "-8o00gdzzFkW",
        "colab_type": "code",
        "colab": {
          "base_uri": "https://localhost:8080/",
          "height": 87
        },
        "outputId": "bd5df88f-7555-4b34-f892-c0fdb767347b"
      },
      "cell_type": "code",
      "source": [
        "from __future__ import absolute_import, division, print_function, unicode_literals\n",
        "\n",
        "!pip install -q tensorflow==2.0.0-alpha0\n",
        "import tensorflow as tf"
      ],
      "execution_count": 1,
      "outputs": [
        {
          "output_type": "stream",
          "text": [
            "\u001b[K    100% |████████████████████████████████| 79.9MB 396kB/s \n",
            "\u001b[K    100% |████████████████████████████████| 61kB 20.1MB/s \n",
            "\u001b[K    100% |████████████████████████████████| 3.0MB 11.1MB/s \n",
            "\u001b[K    100% |████████████████████████████████| 419kB 20.6MB/s \n",
            "\u001b[?25h"
          ],
          "name": "stdout"
        }
      ]
    },
    {
      "metadata": {
        "id": "c-Hza7psz47Z",
        "colab_type": "code",
        "colab": {}
      },
      "cell_type": "code",
      "source": [
        "AUTOTUNE = tf.data.experimental.AUTOTUNE"
      ],
      "execution_count": 0,
      "outputs": []
    }
  ]
}